{
  "nbformat": 4,
  "nbformat_minor": 0,
  "metadata": {
    "colab": {
      "name": "TrainDesicionTreeClassifier.ipynb",
      "provenance": [],
      "collapsed_sections": [],
      "authorship_tag": "ABX9TyPZ7INeV31czTwdnXVaLVyV",
      "include_colab_link": true
    },
    "kernelspec": {
      "name": "python3",
      "display_name": "Python 3"
    }
  },
  "cells": [
    {
      "cell_type": "markdown",
      "metadata": {
        "id": "view-in-github",
        "colab_type": "text"
      },
      "source": [
        "<a href=\"https://colab.research.google.com/github/ibnuhajar/TrainingMachineLearning/blob/main/TrainDesicionTreeClassifier.ipynb\" target=\"_parent\"><img src=\"https://colab.research.google.com/assets/colab-badge.svg\" alt=\"Open In Colab\"/></a>"
      ]
    },
    {
      "cell_type": "code",
      "metadata": {
        "id": "igs74S-uKs-Z",
        "outputId": "51aa4b5b-1d5b-440c-9332-c2150ba7cee7",
        "colab": {
          "base_uri": "https://localhost:8080/",
          "height": 34
        }
      },
      "source": [
        "import pandas as pd\n",
        "import os\n",
        "from sklearn.tree import DecisionTreeClassifier\n",
        "\n",
        "os.listdir('sample_data')\n",
        "\n",
        "iris = pd.read_csv('sample_data/Iris.csv')\n",
        "iris.head()\n",
        "\n",
        "iris.drop('Id', axis=1, inplace = True)\n",
        "\n",
        "# # ['SepalLengthCm', 'SepalWidthCm', 'PetalLengthCm', 'PetalWidthCm' ]\n",
        "#          SepalLengthCm \t  SepalWidthCm \tPetalLengthCm \t PetalWidthCm \tSpecies\n",
        "x = iris[['SepalLengthCm', 'SepalWidthCm', 'PetalLengthCm', 'PetalWidthCm']]\n",
        "y = iris['Species']\n",
        "\n",
        "# # membuat model Decision Tree\n",
        "tree_model = DecisionTreeClassifier()\n",
        "# #  melakukan pelatihan model terhadap data\n",
        "tree_model.fit(x,y)\n",
        "\n",
        "# tree_model_predict([[SepalLengthCm, SepalWidthCm, PetalLengthCm, PetalWidthCm ]])\n",
        "tree_model.predict([[6.2,3.4,5.4,2.3]])"
      ],
      "execution_count": 17,
      "outputs": [
        {
          "output_type": "execute_result",
          "data": {
            "text/plain": [
              "array(['Iris-virginica'], dtype=object)"
            ]
          },
          "metadata": {
            "tags": []
          },
          "execution_count": 17
        }
      ]
    }
  ]
}