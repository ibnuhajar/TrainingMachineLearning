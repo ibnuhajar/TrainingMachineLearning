{
  "nbformat": 4,
  "nbformat_minor": 0,
  "metadata": {
    "colab": {
      "name": "TrainDesicionTreeClassifier.ipynb",
      "provenance": [],
      "collapsed_sections": [],
      "authorship_tag": "ABX9TyNBQurYGv4FHQj6YhuZfpLZ",
      "include_colab_link": true
    },
    "kernelspec": {
      "name": "python3",
      "display_name": "Python 3"
    }
  },
  "cells": [
    {
      "cell_type": "markdown",
      "metadata": {
        "id": "view-in-github",
        "colab_type": "text"
      },
      "source": [
        "<a href=\"https://colab.research.google.com/github/ibnuhajar/TrainingMachineLearning/blob/main/TrainDesicionTreeClassifier.ipynb\" target=\"_parent\"><img src=\"https://colab.research.google.com/assets/colab-badge.svg\" alt=\"Open In Colab\"/></a>"
      ]
    },
    {
      "cell_type": "code",
      "metadata": {
        "id": "igs74S-uKs-Z"
      },
      "source": [
        "import pandas as pd\n",
        "import os\n",
        "from sklearn.tree import DecisionTreeClassifier\n",
        "from sklearn.tree import export_graphviz\n",
        "\n",
        "os.listdir('sample_data')\n",
        "\n",
        "iris = pd.read_csv('sample_data/Iris.csv')\n",
        "iris.head()\n",
        "\n",
        "iris.drop('Id', axis=1, inplace = True)\n",
        "\n",
        "# # ['SepalLengthCm', 'SepalWidthCm', 'PetalLengthCm', 'PetalWidthCm' ]\n",
        "#          SepalLengthCm \t  SepalWidthCm \tPetalLengthCm \t PetalWidthCm \tSpecies\n",
        "x = iris[['SepalLengthCm', 'SepalWidthCm', 'PetalLengthCm', 'PetalWidthCm']]\n",
        "y = iris['Species']\n",
        "\n",
        "# # membuat model Decision Tree\n",
        "tree_model = DecisionTreeClassifier()\n",
        "# #  melakukan pelatihan model terhadap data\n",
        "tree_model.fit(x,y)\n",
        "\n",
        "# tree_model_predict([[SepalLengthCm, SepalWidthCm, PetalLengthCm, PetalWidthCm ]])\n",
        "tree_model.predict([[6.2,3.4,5.4,2.3]])\n",
        "\n",
        "export_graphviz(\n",
        "    tree_model,\n",
        "    out_file = \"iris_tree.dot\",\n",
        "    feature_names = ['SepalLengthCm','SepalWidthCm','PetalLengthCm','PetalWidthCm'],\n",
        "    class_names = ['Iris-setosa','Iris-versicolor','Iris-virginica'],\n",
        "    rounded = True,\n",
        "    filled = True\n",
        ")"
      ],
      "execution_count": 24,
      "outputs": []
    }
  ]
}